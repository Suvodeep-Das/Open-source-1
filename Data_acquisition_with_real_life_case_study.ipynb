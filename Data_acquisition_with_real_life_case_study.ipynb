{
  "cells": [
    {
      "cell_type": "code",
      "execution_count": 169,
      "metadata": {
        "colab": {
          "base_uri": "https://localhost:8080/"
        },
        "id": "nuGXYQwLqCSb",
        "outputId": "1cec05c0-1ab4-43fe-ef7f-a66fd14900d7"
      },
      "outputs": [
        {
          "data": {
            "text/html": [
              "<div>\n",
              "<style scoped>\n",
              "    .dataframe tbody tr th:only-of-type {\n",
              "        vertical-align: middle;\n",
              "    }\n",
              "\n",
              "    .dataframe tbody tr th {\n",
              "        vertical-align: top;\n",
              "    }\n",
              "\n",
              "    .dataframe thead th {\n",
              "        text-align: right;\n",
              "    }\n",
              "</style>\n",
              "<table border=\"1\" class=\"dataframe\">\n",
              "  <thead>\n",
              "    <tr style=\"text-align: right;\">\n",
              "      <th></th>\n",
              "      <th>order id</th>\n",
              "      <th>items</th>\n",
              "      <th>to</th>\n",
              "      <th>date</th>\n",
              "      <th>total</th>\n",
              "      <th>shipping</th>\n",
              "      <th>shipping_refund</th>\n",
              "      <th>gift</th>\n",
              "      <th>VAT</th>\n",
              "      <th>refund</th>\n",
              "      <th>payments</th>\n",
              "    </tr>\n",
              "  </thead>\n",
              "  <tbody>\n",
              "    <tr>\n",
              "      <th>0</th>\n",
              "      <td>401-0826915-7819810</td>\n",
              "      <td>NaN</td>\n",
              "      <td>0</td>\n",
              "      <td>2022-11-26</td>\n",
              "      <td>Rs.0.00</td>\n",
              "      <td>0</td>\n",
              "      <td>0</td>\n",
              "      <td>0</td>\n",
              "      <td>0</td>\n",
              "      <td>0</td>\n",
              "      <td>2022-11-26: Rs. 0.00;</td>\n",
              "    </tr>\n",
              "    <tr>\n",
              "      <th>1</th>\n",
              "      <td>405-6946341-7158704</td>\n",
              "      <td>Amazon Prime (Monthly Membership);</td>\n",
              "      <td>0</td>\n",
              "      <td>2022-11-12</td>\n",
              "      <td>Rs.179.00</td>\n",
              "      <td>Rs. 0.00</td>\n",
              "      <td>0</td>\n",
              "      <td>0</td>\n",
              "      <td>0</td>\n",
              "      <td>0</td>\n",
              "      <td>UNKNOWN;</td>\n",
              "    </tr>\n",
              "    <tr>\n",
              "      <th>2</th>\n",
              "      <td>408-9319716-7314741</td>\n",
              "      <td>PTron Bassbuds Duo Bluetooth Truly Wireless in...</td>\n",
              "      <td>RITA DAS</td>\n",
              "      <td>2022-10-08</td>\n",
              "      <td>Rs.0.00</td>\n",
              "      <td>Rs. 0.00</td>\n",
              "      <td>0</td>\n",
              "      <td>0</td>\n",
              "      <td>0</td>\n",
              "      <td>0</td>\n",
              "      <td>UNKNOWN;</td>\n",
              "    </tr>\n",
              "    <tr>\n",
              "      <th>3</th>\n",
              "      <td>405-8376202-8677158</td>\n",
              "      <td>pTron Bassbuds Duo in Ear Earbuds with 32Hrs T...</td>\n",
              "      <td>RITA DAS</td>\n",
              "      <td>2022-10-06</td>\n",
              "      <td>Rs.599.00</td>\n",
              "      <td>Rs. 40.00</td>\n",
              "      <td>0</td>\n",
              "      <td>0</td>\n",
              "      <td>0</td>\n",
              "      <td>0</td>\n",
              "      <td>UNKNOWN;</td>\n",
              "    </tr>\n",
              "    <tr>\n",
              "      <th>4</th>\n",
              "      <td>405-5343166-7380366</td>\n",
              "      <td>boAt Xtend Pro with Bluetooth Calling, Dial Pa...</td>\n",
              "      <td>RITA DAS</td>\n",
              "      <td>2022-10-06</td>\n",
              "      <td>Rs.3,049.00</td>\n",
              "      <td>Rs. 40.00</td>\n",
              "      <td>0</td>\n",
              "      <td>0</td>\n",
              "      <td>0</td>\n",
              "      <td>0</td>\n",
              "      <td>UNKNOWN;</td>\n",
              "    </tr>\n",
              "    <tr>\n",
              "      <th>5</th>\n",
              "      <td>405-4622485-0673962</td>\n",
              "      <td>Pigeon Polypropylene Mini Handy and Compact Ch...</td>\n",
              "      <td>RITA DAS</td>\n",
              "      <td>2022-07-19</td>\n",
              "      <td>Rs.265.00</td>\n",
              "      <td>Rs. 0.00</td>\n",
              "      <td>0</td>\n",
              "      <td>0</td>\n",
              "      <td>0</td>\n",
              "      <td>0</td>\n",
              "      <td>UNKNOWN;</td>\n",
              "    </tr>\n",
              "    <tr>\n",
              "      <th>6</th>\n",
              "      <td>171-7907500-6422739</td>\n",
              "      <td>boAt Bassheads 242 in Ear Wired Earphones with...</td>\n",
              "      <td>RITA DAS</td>\n",
              "      <td>2022-07-17</td>\n",
              "      <td>Rs.549.00</td>\n",
              "      <td>Rs. 0.00</td>\n",
              "      <td>0</td>\n",
              "      <td>0</td>\n",
              "      <td>0</td>\n",
              "      <td>0</td>\n",
              "      <td>UNKNOWN;</td>\n",
              "    </tr>\n",
              "    <tr>\n",
              "      <th>7</th>\n",
              "      <td>401-2301541-6664611</td>\n",
              "      <td>NaN</td>\n",
              "      <td>0</td>\n",
              "      <td>2022-02-28</td>\n",
              "      <td>Rs.0.00</td>\n",
              "      <td>0</td>\n",
              "      <td>0</td>\n",
              "      <td>0</td>\n",
              "      <td>0</td>\n",
              "      <td>0</td>\n",
              "      <td>2022-02-28: Rs. 0.00;</td>\n",
              "    </tr>\n",
              "    <tr>\n",
              "      <th>8</th>\n",
              "      <td>order id</td>\n",
              "      <td>items</td>\n",
              "      <td>to</td>\n",
              "      <td>date</td>\n",
              "      <td>total</td>\n",
              "      <td>shipping</td>\n",
              "      <td>shipping_refund</td>\n",
              "      <td>gift</td>\n",
              "      <td>VAT</td>\n",
              "      <td>refund</td>\n",
              "      <td>payments</td>\n",
              "    </tr>\n",
              "  </tbody>\n",
              "</table>\n",
              "</div>"
            ],
            "text/plain": [
              "              order id                                              items  \\\n",
              "0  401-0826915-7819810                                                NaN   \n",
              "1  405-6946341-7158704                Amazon Prime (Monthly Membership);    \n",
              "2  408-9319716-7314741  PTron Bassbuds Duo Bluetooth Truly Wireless in...   \n",
              "3  405-8376202-8677158  pTron Bassbuds Duo in Ear Earbuds with 32Hrs T...   \n",
              "4  405-5343166-7380366  boAt Xtend Pro with Bluetooth Calling, Dial Pa...   \n",
              "5  405-4622485-0673962  Pigeon Polypropylene Mini Handy and Compact Ch...   \n",
              "6  171-7907500-6422739  boAt Bassheads 242 in Ear Wired Earphones with...   \n",
              "7  401-2301541-6664611                                                NaN   \n",
              "8             order id                                              items   \n",
              "\n",
              "         to        date        total   shipping  shipping_refund  gift  VAT  \\\n",
              "0         0  2022-11-26      Rs.0.00          0                0     0    0   \n",
              "1         0  2022-11-12    Rs.179.00   Rs. 0.00                0     0    0   \n",
              "2  RITA DAS  2022-10-08      Rs.0.00   Rs. 0.00                0     0    0   \n",
              "3  RITA DAS  2022-10-06    Rs.599.00  Rs. 40.00                0     0    0   \n",
              "4  RITA DAS  2022-10-06  Rs.3,049.00  Rs. 40.00                0     0    0   \n",
              "5  RITA DAS  2022-07-19    Rs.265.00   Rs. 0.00                0     0    0   \n",
              "6  RITA DAS  2022-07-17    Rs.549.00   Rs. 0.00                0     0    0   \n",
              "7         0  2022-02-28      Rs.0.00          0                0     0    0   \n",
              "8        to        date        total   shipping  shipping_refund  gift  VAT   \n",
              "\n",
              "   refund                payments  \n",
              "0       0  2022-11-26: Rs. 0.00;   \n",
              "1       0               UNKNOWN;   \n",
              "2       0               UNKNOWN;   \n",
              "3       0               UNKNOWN;   \n",
              "4       0               UNKNOWN;   \n",
              "5       0               UNKNOWN;   \n",
              "6       0               UNKNOWN;   \n",
              "7       0  2022-02-28: Rs. 0.00;   \n",
              "8  refund                payments  "
            ]
          },
          "execution_count": 169,
          "metadata": {},
          "output_type": "execute_result"
        }
      ],
      "source": [
        "import pandas as pd\n",
        "data = pd.read_csv(\"amazon_order_history.csv\")\n",
        "data"
      ]
    },
    {
      "cell_type": "code",
      "execution_count": 170,
      "metadata": {
        "colab": {
          "base_uri": "https://localhost:8080/"
        },
        "id": "SrtqcwLjvCMB",
        "outputId": "830f0c58-214b-45cb-a014-7ae5e63a2cf3"
      },
      "outputs": [
        {
          "data": {
            "text/plain": [
              "(9, 11)"
            ]
          },
          "execution_count": 170,
          "metadata": {},
          "output_type": "execute_result"
        }
      ],
      "source": [
        "data.shape"
      ]
    },
    {
      "cell_type": "markdown",
      "metadata": {
        "id": "nZEvno7NvMJI"
      },
      "source": [
        "*Number of Rows*"
      ]
    },
    {
      "cell_type": "code",
      "execution_count": 171,
      "metadata": {
        "colab": {
          "base_uri": "https://localhost:8080/"
        },
        "id": "raiy5VjgvGb3",
        "outputId": "4468f373-57ab-4c35-ca81-7378404cc9e6"
      },
      "outputs": [
        {
          "data": {
            "text/plain": [
              "9"
            ]
          },
          "execution_count": 171,
          "metadata": {},
          "output_type": "execute_result"
        }
      ],
      "source": [
        "len(data)"
      ]
    },
    {
      "cell_type": "markdown",
      "metadata": {
        "id": "Mtz72MWHvRfs"
      },
      "source": [
        "*Column Names*"
      ]
    },
    {
      "cell_type": "code",
      "execution_count": 172,
      "metadata": {
        "colab": {
          "base_uri": "https://localhost:8080/"
        },
        "id": "G16PTyycvOlm",
        "outputId": "866c688e-501b-4d25-b95b-703718b8a3df"
      },
      "outputs": [
        {
          "data": {
            "text/plain": [
              "Index(['order id', 'items', 'to', 'date', 'total', 'shipping',\n",
              "       'shipping_refund', 'gift', 'VAT', 'refund', 'payments'],\n",
              "      dtype='object')"
            ]
          },
          "execution_count": 172,
          "metadata": {},
          "output_type": "execute_result"
        }
      ],
      "source": [
        "data.columns"
      ]
    },
    {
      "cell_type": "code",
      "execution_count": 173,
      "metadata": {
        "id": "hAAaOMWiva_Y"
      },
      "outputs": [],
      "source": [
        "data.columns =['OrderId','PurchasedItems', 'CustomerName', 'OrderDate', 'AmountPaid', 'ShippingCharges', 'ShippingChargesRefund', 'Gift', 'Vat', 'RefundAmount', 'PaymentMedium']"
      ]
    },
    {
      "cell_type": "code",
      "execution_count": 174,
      "metadata": {
        "colab": {
          "base_uri": "https://localhost:8080/"
        },
        "id": "t02rqUTxwetI",
        "outputId": "3481f3cc-6b4e-4fcb-c63b-9c6080d3d07c"
      },
      "outputs": [
        {
          "data": {
            "text/plain": [
              "Index(['OrderId', 'PurchasedItems', 'CustomerName', 'OrderDate', 'AmountPaid',\n",
              "       'ShippingCharges', 'ShippingChargesRefund', 'Gift', 'Vat',\n",
              "       'RefundAmount', 'PaymentMedium'],\n",
              "      dtype='object')"
            ]
          },
          "execution_count": 174,
          "metadata": {},
          "output_type": "execute_result"
        }
      ],
      "source": [
        "data.columns"
      ]
    },
    {
      "cell_type": "code",
      "execution_count": 175,
      "metadata": {
        "colab": {
          "base_uri": "https://localhost:8080/",
          "height": 238
        },
        "id": "4jnaUMbZwhD_",
        "outputId": "d71e20e0-6c06-4361-c5a0-ababee3bd5b2"
      },
      "outputs": [
        {
          "data": {
            "text/html": [
              "<div>\n",
              "<style scoped>\n",
              "    .dataframe tbody tr th:only-of-type {\n",
              "        vertical-align: middle;\n",
              "    }\n",
              "\n",
              "    .dataframe tbody tr th {\n",
              "        vertical-align: top;\n",
              "    }\n",
              "\n",
              "    .dataframe thead th {\n",
              "        text-align: right;\n",
              "    }\n",
              "</style>\n",
              "<table border=\"1\" class=\"dataframe\">\n",
              "  <thead>\n",
              "    <tr style=\"text-align: right;\">\n",
              "      <th></th>\n",
              "      <th>OrderId</th>\n",
              "      <th>PurchasedItems</th>\n",
              "      <th>CustomerName</th>\n",
              "      <th>OrderDate</th>\n",
              "      <th>AmountPaid</th>\n",
              "      <th>ShippingCharges</th>\n",
              "    </tr>\n",
              "  </thead>\n",
              "  <tbody>\n",
              "    <tr>\n",
              "      <th>0</th>\n",
              "      <td>401-0826915-7819810</td>\n",
              "      <td>NaN</td>\n",
              "      <td>0</td>\n",
              "      <td>2022-11-26</td>\n",
              "      <td>Rs.0.00</td>\n",
              "      <td>0</td>\n",
              "    </tr>\n",
              "    <tr>\n",
              "      <th>1</th>\n",
              "      <td>405-6946341-7158704</td>\n",
              "      <td>Amazon Prime (Monthly Membership);</td>\n",
              "      <td>0</td>\n",
              "      <td>2022-11-12</td>\n",
              "      <td>Rs.179.00</td>\n",
              "      <td>Rs. 0.00</td>\n",
              "    </tr>\n",
              "    <tr>\n",
              "      <th>2</th>\n",
              "      <td>408-9319716-7314741</td>\n",
              "      <td>PTron Bassbuds Duo Bluetooth Truly Wireless in...</td>\n",
              "      <td>RITA DAS</td>\n",
              "      <td>2022-10-08</td>\n",
              "      <td>Rs.0.00</td>\n",
              "      <td>Rs. 0.00</td>\n",
              "    </tr>\n",
              "    <tr>\n",
              "      <th>3</th>\n",
              "      <td>405-8376202-8677158</td>\n",
              "      <td>pTron Bassbuds Duo in Ear Earbuds with 32Hrs T...</td>\n",
              "      <td>RITA DAS</td>\n",
              "      <td>2022-10-06</td>\n",
              "      <td>Rs.599.00</td>\n",
              "      <td>Rs. 40.00</td>\n",
              "    </tr>\n",
              "    <tr>\n",
              "      <th>4</th>\n",
              "      <td>405-5343166-7380366</td>\n",
              "      <td>boAt Xtend Pro with Bluetooth Calling, Dial Pa...</td>\n",
              "      <td>RITA DAS</td>\n",
              "      <td>2022-10-06</td>\n",
              "      <td>Rs.3,049.00</td>\n",
              "      <td>Rs. 40.00</td>\n",
              "    </tr>\n",
              "    <tr>\n",
              "      <th>5</th>\n",
              "      <td>405-4622485-0673962</td>\n",
              "      <td>Pigeon Polypropylene Mini Handy and Compact Ch...</td>\n",
              "      <td>RITA DAS</td>\n",
              "      <td>2022-07-19</td>\n",
              "      <td>Rs.265.00</td>\n",
              "      <td>Rs. 0.00</td>\n",
              "    </tr>\n",
              "    <tr>\n",
              "      <th>6</th>\n",
              "      <td>171-7907500-6422739</td>\n",
              "      <td>boAt Bassheads 242 in Ear Wired Earphones with...</td>\n",
              "      <td>RITA DAS</td>\n",
              "      <td>2022-07-17</td>\n",
              "      <td>Rs.549.00</td>\n",
              "      <td>Rs. 0.00</td>\n",
              "    </tr>\n",
              "    <tr>\n",
              "      <th>7</th>\n",
              "      <td>401-2301541-6664611</td>\n",
              "      <td>NaN</td>\n",
              "      <td>0</td>\n",
              "      <td>2022-02-28</td>\n",
              "      <td>Rs.0.00</td>\n",
              "      <td>0</td>\n",
              "    </tr>\n",
              "    <tr>\n",
              "      <th>8</th>\n",
              "      <td>order id</td>\n",
              "      <td>items</td>\n",
              "      <td>to</td>\n",
              "      <td>date</td>\n",
              "      <td>total</td>\n",
              "      <td>shipping</td>\n",
              "    </tr>\n",
              "  </tbody>\n",
              "</table>\n",
              "</div>"
            ],
            "text/plain": [
              "               OrderId                                     PurchasedItems  \\\n",
              "0  401-0826915-7819810                                                NaN   \n",
              "1  405-6946341-7158704                Amazon Prime (Monthly Membership);    \n",
              "2  408-9319716-7314741  PTron Bassbuds Duo Bluetooth Truly Wireless in...   \n",
              "3  405-8376202-8677158  pTron Bassbuds Duo in Ear Earbuds with 32Hrs T...   \n",
              "4  405-5343166-7380366  boAt Xtend Pro with Bluetooth Calling, Dial Pa...   \n",
              "5  405-4622485-0673962  Pigeon Polypropylene Mini Handy and Compact Ch...   \n",
              "6  171-7907500-6422739  boAt Bassheads 242 in Ear Wired Earphones with...   \n",
              "7  401-2301541-6664611                                                NaN   \n",
              "8             order id                                              items   \n",
              "\n",
              "  CustomerName   OrderDate   AmountPaid ShippingCharges  \n",
              "0            0  2022-11-26      Rs.0.00               0  \n",
              "1            0  2022-11-12    Rs.179.00        Rs. 0.00  \n",
              "2     RITA DAS  2022-10-08      Rs.0.00        Rs. 0.00  \n",
              "3     RITA DAS  2022-10-06    Rs.599.00       Rs. 40.00  \n",
              "4     RITA DAS  2022-10-06  Rs.3,049.00       Rs. 40.00  \n",
              "5     RITA DAS  2022-07-19    Rs.265.00        Rs. 0.00  \n",
              "6     RITA DAS  2022-07-17    Rs.549.00        Rs. 0.00  \n",
              "7            0  2022-02-28      Rs.0.00               0  \n",
              "8           to        date        total        shipping  "
            ]
          },
          "execution_count": 175,
          "metadata": {},
          "output_type": "execute_result"
        }
      ],
      "source": [
        "s2 = data.drop(['Gift', 'ShippingChargesRefund', 'Vat', 'RefundAmount', 'PaymentMedium'] , axis=1)\n",
        "s2"
      ]
    },
    {
      "cell_type": "markdown",
      "metadata": {
        "id": "HwuCMaVYxHuG"
      },
      "source": [
        "**Slicing**"
      ]
    },
    {
      "cell_type": "code",
      "execution_count": 176,
      "metadata": {
        "colab": {
          "base_uri": "https://localhost:8080/",
          "height": 206
        },
        "id": "lRCInmYNwuou",
        "outputId": "88daa93d-bcea-4d9f-be3f-e23d1b395c04"
      },
      "outputs": [
        {
          "data": {
            "text/html": [
              "<div>\n",
              "<style scoped>\n",
              "    .dataframe tbody tr th:only-of-type {\n",
              "        vertical-align: middle;\n",
              "    }\n",
              "\n",
              "    .dataframe tbody tr th {\n",
              "        vertical-align: top;\n",
              "    }\n",
              "\n",
              "    .dataframe thead th {\n",
              "        text-align: right;\n",
              "    }\n",
              "</style>\n",
              "<table border=\"1\" class=\"dataframe\">\n",
              "  <thead>\n",
              "    <tr style=\"text-align: right;\">\n",
              "      <th></th>\n",
              "      <th>OrderId</th>\n",
              "      <th>PurchasedItems</th>\n",
              "      <th>CustomerName</th>\n",
              "      <th>OrderDate</th>\n",
              "      <th>AmountPaid</th>\n",
              "      <th>ShippingCharges</th>\n",
              "    </tr>\n",
              "  </thead>\n",
              "  <tbody>\n",
              "    <tr>\n",
              "      <th>0</th>\n",
              "      <td>401-0826915-7819810</td>\n",
              "      <td>NaN</td>\n",
              "      <td>0</td>\n",
              "      <td>2022-11-26</td>\n",
              "      <td>Rs.0.00</td>\n",
              "      <td>0</td>\n",
              "    </tr>\n",
              "    <tr>\n",
              "      <th>1</th>\n",
              "      <td>405-6946341-7158704</td>\n",
              "      <td>Amazon Prime (Monthly Membership);</td>\n",
              "      <td>0</td>\n",
              "      <td>2022-11-12</td>\n",
              "      <td>Rs.179.00</td>\n",
              "      <td>Rs. 0.00</td>\n",
              "    </tr>\n",
              "    <tr>\n",
              "      <th>2</th>\n",
              "      <td>408-9319716-7314741</td>\n",
              "      <td>PTron Bassbuds Duo Bluetooth Truly Wireless in...</td>\n",
              "      <td>RITA DAS</td>\n",
              "      <td>2022-10-08</td>\n",
              "      <td>Rs.0.00</td>\n",
              "      <td>Rs. 0.00</td>\n",
              "    </tr>\n",
              "    <tr>\n",
              "      <th>3</th>\n",
              "      <td>405-8376202-8677158</td>\n",
              "      <td>pTron Bassbuds Duo in Ear Earbuds with 32Hrs T...</td>\n",
              "      <td>RITA DAS</td>\n",
              "      <td>2022-10-06</td>\n",
              "      <td>Rs.599.00</td>\n",
              "      <td>Rs. 40.00</td>\n",
              "    </tr>\n",
              "    <tr>\n",
              "      <th>4</th>\n",
              "      <td>405-5343166-7380366</td>\n",
              "      <td>boAt Xtend Pro with Bluetooth Calling, Dial Pa...</td>\n",
              "      <td>RITA DAS</td>\n",
              "      <td>2022-10-06</td>\n",
              "      <td>Rs.3,049.00</td>\n",
              "      <td>Rs. 40.00</td>\n",
              "    </tr>\n",
              "  </tbody>\n",
              "</table>\n",
              "</div>"
            ],
            "text/plain": [
              "               OrderId                                     PurchasedItems  \\\n",
              "0  401-0826915-7819810                                                NaN   \n",
              "1  405-6946341-7158704                Amazon Prime (Monthly Membership);    \n",
              "2  408-9319716-7314741  PTron Bassbuds Duo Bluetooth Truly Wireless in...   \n",
              "3  405-8376202-8677158  pTron Bassbuds Duo in Ear Earbuds with 32Hrs T...   \n",
              "4  405-5343166-7380366  boAt Xtend Pro with Bluetooth Calling, Dial Pa...   \n",
              "\n",
              "  CustomerName   OrderDate   AmountPaid ShippingCharges  \n",
              "0            0  2022-11-26      Rs.0.00               0  \n",
              "1            0  2022-11-12    Rs.179.00        Rs. 0.00  \n",
              "2     RITA DAS  2022-10-08      Rs.0.00        Rs. 0.00  \n",
              "3     RITA DAS  2022-10-06    Rs.599.00       Rs. 40.00  \n",
              "4     RITA DAS  2022-10-06  Rs.3,049.00       Rs. 40.00  "
            ]
          },
          "execution_count": 176,
          "metadata": {},
          "output_type": "execute_result"
        }
      ],
      "source": [
        "s2[0:5]"
      ]
    },
    {
      "cell_type": "code",
      "execution_count": 177,
      "metadata": {
        "id": "CqZR5RKFxAkS"
      },
      "outputs": [],
      "source": [
        "s2 = s2[0:5]"
      ]
    },
    {
      "cell_type": "code",
      "execution_count": 178,
      "metadata": {
        "colab": {
          "base_uri": "https://localhost:8080/",
          "height": 206
        },
        "id": "LJlbj5fexEyo",
        "outputId": "745a94ea-ed83-4535-f61f-dd3aed6e102d"
      },
      "outputs": [
        {
          "data": {
            "text/html": [
              "<div>\n",
              "<style scoped>\n",
              "    .dataframe tbody tr th:only-of-type {\n",
              "        vertical-align: middle;\n",
              "    }\n",
              "\n",
              "    .dataframe tbody tr th {\n",
              "        vertical-align: top;\n",
              "    }\n",
              "\n",
              "    .dataframe thead th {\n",
              "        text-align: right;\n",
              "    }\n",
              "</style>\n",
              "<table border=\"1\" class=\"dataframe\">\n",
              "  <thead>\n",
              "    <tr style=\"text-align: right;\">\n",
              "      <th></th>\n",
              "      <th>OrderId</th>\n",
              "      <th>PurchasedItems</th>\n",
              "      <th>CustomerName</th>\n",
              "      <th>OrderDate</th>\n",
              "      <th>AmountPaid</th>\n",
              "      <th>ShippingCharges</th>\n",
              "    </tr>\n",
              "  </thead>\n",
              "  <tbody>\n",
              "    <tr>\n",
              "      <th>0</th>\n",
              "      <td>401-0826915-7819810</td>\n",
              "      <td>NaN</td>\n",
              "      <td>0</td>\n",
              "      <td>2022-11-26</td>\n",
              "      <td>Rs.0.00</td>\n",
              "      <td>0</td>\n",
              "    </tr>\n",
              "    <tr>\n",
              "      <th>1</th>\n",
              "      <td>405-6946341-7158704</td>\n",
              "      <td>Amazon Prime (Monthly Membership);</td>\n",
              "      <td>0</td>\n",
              "      <td>2022-11-12</td>\n",
              "      <td>Rs.179.00</td>\n",
              "      <td>Rs. 0.00</td>\n",
              "    </tr>\n",
              "    <tr>\n",
              "      <th>2</th>\n",
              "      <td>408-9319716-7314741</td>\n",
              "      <td>PTron Bassbuds Duo Bluetooth Truly Wireless in...</td>\n",
              "      <td>RITA DAS</td>\n",
              "      <td>2022-10-08</td>\n",
              "      <td>Rs.0.00</td>\n",
              "      <td>Rs. 0.00</td>\n",
              "    </tr>\n",
              "    <tr>\n",
              "      <th>3</th>\n",
              "      <td>405-8376202-8677158</td>\n",
              "      <td>pTron Bassbuds Duo in Ear Earbuds with 32Hrs T...</td>\n",
              "      <td>RITA DAS</td>\n",
              "      <td>2022-10-06</td>\n",
              "      <td>Rs.599.00</td>\n",
              "      <td>Rs. 40.00</td>\n",
              "    </tr>\n",
              "    <tr>\n",
              "      <th>4</th>\n",
              "      <td>405-5343166-7380366</td>\n",
              "      <td>boAt Xtend Pro with Bluetooth Calling, Dial Pa...</td>\n",
              "      <td>RITA DAS</td>\n",
              "      <td>2022-10-06</td>\n",
              "      <td>Rs.3,049.00</td>\n",
              "      <td>Rs. 40.00</td>\n",
              "    </tr>\n",
              "  </tbody>\n",
              "</table>\n",
              "</div>"
            ],
            "text/plain": [
              "               OrderId                                     PurchasedItems  \\\n",
              "0  401-0826915-7819810                                                NaN   \n",
              "1  405-6946341-7158704                Amazon Prime (Monthly Membership);    \n",
              "2  408-9319716-7314741  PTron Bassbuds Duo Bluetooth Truly Wireless in...   \n",
              "3  405-8376202-8677158  pTron Bassbuds Duo in Ear Earbuds with 32Hrs T...   \n",
              "4  405-5343166-7380366  boAt Xtend Pro with Bluetooth Calling, Dial Pa...   \n",
              "\n",
              "  CustomerName   OrderDate   AmountPaid ShippingCharges  \n",
              "0            0  2022-11-26      Rs.0.00               0  \n",
              "1            0  2022-11-12    Rs.179.00        Rs. 0.00  \n",
              "2     RITA DAS  2022-10-08      Rs.0.00        Rs. 0.00  \n",
              "3     RITA DAS  2022-10-06    Rs.599.00       Rs. 40.00  \n",
              "4     RITA DAS  2022-10-06  Rs.3,049.00       Rs. 40.00  "
            ]
          },
          "execution_count": 178,
          "metadata": {},
          "output_type": "execute_result"
        }
      ],
      "source": [
        "s2"
      ]
    },
    {
      "cell_type": "code",
      "execution_count": 179,
      "metadata": {
        "colab": {
          "base_uri": "https://localhost:8080/"
        },
        "id": "qVl68zsmxGm5",
        "outputId": "8b742df4-d53c-4c8c-967e-02ca848920dc"
      },
      "outputs": [
        {
          "name": "stderr",
          "output_type": "stream",
          "text": [
            "<ipython-input-179-f5c012b698cc>:1: FutureWarning: The default value of regex will change from True to False in a future version.\n",
            "  s2[\"AmountPaid\"] = s2[\"AmountPaid\"].str.replace('Rs.', '').str.replace(',', '')\n",
            "<ipython-input-179-f5c012b698cc>:1: SettingWithCopyWarning: \n",
            "A value is trying to be set on a copy of a slice from a DataFrame.\n",
            "Try using .loc[row_indexer,col_indexer] = value instead\n",
            "\n",
            "See the caveats in the documentation: https://pandas.pydata.org/pandas-docs/stable/user_guide/indexing.html#returning-a-view-versus-a-copy\n",
            "  s2[\"AmountPaid\"] = s2[\"AmountPaid\"].str.replace('Rs.', '').str.replace(',', '')\n",
            "<ipython-input-179-f5c012b698cc>:2: FutureWarning: The default value of regex will change from True to False in a future version.\n",
            "  s2[\"ShippingCharges\"] = s2[\"ShippingCharges\"].str.replace('Rs.', '').str.replace(',', '')\n",
            "<ipython-input-179-f5c012b698cc>:2: SettingWithCopyWarning: \n",
            "A value is trying to be set on a copy of a slice from a DataFrame.\n",
            "Try using .loc[row_indexer,col_indexer] = value instead\n",
            "\n",
            "See the caveats in the documentation: https://pandas.pydata.org/pandas-docs/stable/user_guide/indexing.html#returning-a-view-versus-a-copy\n",
            "  s2[\"ShippingCharges\"] = s2[\"ShippingCharges\"].str.replace('Rs.', '').str.replace(',', '')\n",
            "<ipython-input-179-f5c012b698cc>:3: SettingWithCopyWarning: \n",
            "A value is trying to be set on a copy of a slice from a DataFrame.\n",
            "Try using .loc[row_indexer,col_indexer] = value instead\n",
            "\n",
            "See the caveats in the documentation: https://pandas.pydata.org/pandas-docs/stable/user_guide/indexing.html#returning-a-view-versus-a-copy\n",
            "  s2[\"OrderId\"] = s2[\"OrderId\"].str.replace('-', '')\n",
            "<ipython-input-179-f5c012b698cc>:4: SettingWithCopyWarning: \n",
            "A value is trying to be set on a copy of a slice from a DataFrame.\n",
            "Try using .loc[row_indexer,col_indexer] = value instead\n",
            "\n",
            "See the caveats in the documentation: https://pandas.pydata.org/pandas-docs/stable/user_guide/indexing.html#returning-a-view-versus-a-copy\n",
            "  s2[\"OrderDate\"] = s2[\"OrderDate\"].str.replace('-', '')\n"
          ]
        },
        {
          "data": {
            "text/html": [
              "<div>\n",
              "<style scoped>\n",
              "    .dataframe tbody tr th:only-of-type {\n",
              "        vertical-align: middle;\n",
              "    }\n",
              "\n",
              "    .dataframe tbody tr th {\n",
              "        vertical-align: top;\n",
              "    }\n",
              "\n",
              "    .dataframe thead th {\n",
              "        text-align: right;\n",
              "    }\n",
              "</style>\n",
              "<table border=\"1\" class=\"dataframe\">\n",
              "  <thead>\n",
              "    <tr style=\"text-align: right;\">\n",
              "      <th></th>\n",
              "      <th>OrderId</th>\n",
              "      <th>PurchasedItems</th>\n",
              "      <th>CustomerName</th>\n",
              "      <th>OrderDate</th>\n",
              "      <th>AmountPaid</th>\n",
              "      <th>ShippingCharges</th>\n",
              "    </tr>\n",
              "  </thead>\n",
              "  <tbody>\n",
              "    <tr>\n",
              "      <th>0</th>\n",
              "      <td>40108269157819810</td>\n",
              "      <td>NaN</td>\n",
              "      <td>0</td>\n",
              "      <td>20221126</td>\n",
              "      <td>0.00</td>\n",
              "      <td>0</td>\n",
              "    </tr>\n",
              "    <tr>\n",
              "      <th>1</th>\n",
              "      <td>40569463417158704</td>\n",
              "      <td>Amazon Prime (Monthly Membership);</td>\n",
              "      <td>0</td>\n",
              "      <td>20221112</td>\n",
              "      <td>179.00</td>\n",
              "      <td>0.00</td>\n",
              "    </tr>\n",
              "    <tr>\n",
              "      <th>2</th>\n",
              "      <td>40893197167314741</td>\n",
              "      <td>PTron Bassbuds Duo Bluetooth Truly Wireless in...</td>\n",
              "      <td>RITA DAS</td>\n",
              "      <td>20221008</td>\n",
              "      <td>0.00</td>\n",
              "      <td>0.00</td>\n",
              "    </tr>\n",
              "    <tr>\n",
              "      <th>3</th>\n",
              "      <td>40583762028677158</td>\n",
              "      <td>pTron Bassbuds Duo in Ear Earbuds with 32Hrs T...</td>\n",
              "      <td>RITA DAS</td>\n",
              "      <td>20221006</td>\n",
              "      <td>599.00</td>\n",
              "      <td>40.00</td>\n",
              "    </tr>\n",
              "    <tr>\n",
              "      <th>4</th>\n",
              "      <td>40553431667380366</td>\n",
              "      <td>boAt Xtend Pro with Bluetooth Calling, Dial Pa...</td>\n",
              "      <td>RITA DAS</td>\n",
              "      <td>20221006</td>\n",
              "      <td>3049.00</td>\n",
              "      <td>40.00</td>\n",
              "    </tr>\n",
              "  </tbody>\n",
              "</table>\n",
              "</div>"
            ],
            "text/plain": [
              "             OrderId                                     PurchasedItems  \\\n",
              "0  40108269157819810                                                NaN   \n",
              "1  40569463417158704                Amazon Prime (Monthly Membership);    \n",
              "2  40893197167314741  PTron Bassbuds Duo Bluetooth Truly Wireless in...   \n",
              "3  40583762028677158  pTron Bassbuds Duo in Ear Earbuds with 32Hrs T...   \n",
              "4  40553431667380366  boAt Xtend Pro with Bluetooth Calling, Dial Pa...   \n",
              "\n",
              "  CustomerName OrderDate AmountPaid ShippingCharges  \n",
              "0            0  20221126       0.00               0  \n",
              "1            0  20221112     179.00            0.00  \n",
              "2     RITA DAS  20221008       0.00            0.00  \n",
              "3     RITA DAS  20221006     599.00           40.00  \n",
              "4     RITA DAS  20221006    3049.00           40.00  "
            ]
          },
          "execution_count": 179,
          "metadata": {},
          "output_type": "execute_result"
        }
      ],
      "source": [
        "s2[\"AmountPaid\"] = s2[\"AmountPaid\"].str.replace('Rs.', '').str.replace(',', '')\n",
        "s2[\"ShippingCharges\"] = s2[\"ShippingCharges\"].str.replace('Rs.', '').str.replace(',', '')\n",
        "s2[\"OrderId\"] = s2[\"OrderId\"].str.replace('-', '')\n",
        "s2[\"OrderDate\"] = s2[\"OrderDate\"].str.replace('-', '')\n",
        "s2"
      ]
    },
    {
      "cell_type": "markdown",
      "metadata": {
        "id": "oJgjbaGByCSa"
      },
      "source": [
        "**Typecasting**"
      ]
    },
    {
      "cell_type": "code",
      "execution_count": 180,
      "metadata": {
        "colab": {
          "base_uri": "https://localhost:8080/"
        },
        "id": "-zkIpk_qyAfA",
        "outputId": "cf2f2b67-cb4b-40bc-d263-ddc953a93e0c"
      },
      "outputs": [
        {
          "name": "stderr",
          "output_type": "stream",
          "text": [
            "<ipython-input-180-fed5d08223ca>:1: SettingWithCopyWarning: \n",
            "A value is trying to be set on a copy of a slice from a DataFrame.\n",
            "Try using .loc[row_indexer,col_indexer] = value instead\n",
            "\n",
            "See the caveats in the documentation: https://pandas.pydata.org/pandas-docs/stable/user_guide/indexing.html#returning-a-view-versus-a-copy\n",
            "  s2[\"AmountPaid\"] = s2[\"AmountPaid\"].astype(float)\n"
          ]
        }
      ],
      "source": [
        "s2[\"AmountPaid\"] = s2[\"AmountPaid\"].astype(float)"
      ]
    },
    {
      "cell_type": "code",
      "execution_count": null,
      "metadata": {},
      "outputs": [],
      "source": []
    },
    {
      "cell_type": "markdown",
      "metadata": {
        "id": "E0qx8WlqyStb"
      },
      "source": [
        "*Typecasting did not reflect*"
      ]
    },
    {
      "cell_type": "code",
      "execution_count": 181,
      "metadata": {
        "colab": {
          "base_uri": "https://localhost:8080/",
          "height": 35
        },
        "id": "6xmypDPTyE3n",
        "outputId": "8e51c98a-fbf6-4c11-aa93-7ff6b9c53178"
      },
      "outputs": [
        {
          "data": {
            "text/plain": [
              "3827.0"
            ]
          },
          "execution_count": 181,
          "metadata": {},
          "output_type": "execute_result"
        }
      ],
      "source": [
        "s2['AmountPaid'].sum()"
      ]
    },
    {
      "cell_type": "code",
      "execution_count": 182,
      "metadata": {
        "colab": {
          "base_uri": "https://localhost:8080/"
        },
        "id": "yGY8NAlnyOZ2",
        "outputId": "7d827f2d-022f-4919-ab0d-c8fa8bf911dd"
      },
      "outputs": [
        {
          "name": "stderr",
          "output_type": "stream",
          "text": [
            "<ipython-input-182-6f290e0dbba2>:1: SettingWithCopyWarning: \n",
            "A value is trying to be set on a copy of a slice from a DataFrame.\n",
            "Try using .loc[row_indexer,col_indexer] = value instead\n",
            "\n",
            "See the caveats in the documentation: https://pandas.pydata.org/pandas-docs/stable/user_guide/indexing.html#returning-a-view-versus-a-copy\n",
            "  s2[\"AmountPaid\"] = s2[\"AmountPaid\"].astype(float)\n"
          ]
        },
        {
          "data": {
            "text/html": [
              "<div>\n",
              "<style scoped>\n",
              "    .dataframe tbody tr th:only-of-type {\n",
              "        vertical-align: middle;\n",
              "    }\n",
              "\n",
              "    .dataframe tbody tr th {\n",
              "        vertical-align: top;\n",
              "    }\n",
              "\n",
              "    .dataframe thead th {\n",
              "        text-align: right;\n",
              "    }\n",
              "</style>\n",
              "<table border=\"1\" class=\"dataframe\">\n",
              "  <thead>\n",
              "    <tr style=\"text-align: right;\">\n",
              "      <th></th>\n",
              "      <th>OrderId</th>\n",
              "      <th>PurchasedItems</th>\n",
              "      <th>CustomerName</th>\n",
              "      <th>OrderDate</th>\n",
              "      <th>AmountPaid</th>\n",
              "      <th>ShippingCharges</th>\n",
              "    </tr>\n",
              "  </thead>\n",
              "  <tbody>\n",
              "    <tr>\n",
              "      <th>0</th>\n",
              "      <td>40108269157819810</td>\n",
              "      <td>NaN</td>\n",
              "      <td>0</td>\n",
              "      <td>20221126</td>\n",
              "      <td>0.0</td>\n",
              "      <td>0</td>\n",
              "    </tr>\n",
              "    <tr>\n",
              "      <th>1</th>\n",
              "      <td>40569463417158704</td>\n",
              "      <td>Amazon Prime (Monthly Membership);</td>\n",
              "      <td>0</td>\n",
              "      <td>20221112</td>\n",
              "      <td>179.0</td>\n",
              "      <td>0.00</td>\n",
              "    </tr>\n",
              "    <tr>\n",
              "      <th>2</th>\n",
              "      <td>40893197167314741</td>\n",
              "      <td>PTron Bassbuds Duo Bluetooth Truly Wireless in...</td>\n",
              "      <td>RITA DAS</td>\n",
              "      <td>20221008</td>\n",
              "      <td>0.0</td>\n",
              "      <td>0.00</td>\n",
              "    </tr>\n",
              "    <tr>\n",
              "      <th>3</th>\n",
              "      <td>40583762028677158</td>\n",
              "      <td>pTron Bassbuds Duo in Ear Earbuds with 32Hrs T...</td>\n",
              "      <td>RITA DAS</td>\n",
              "      <td>20221006</td>\n",
              "      <td>599.0</td>\n",
              "      <td>40.00</td>\n",
              "    </tr>\n",
              "    <tr>\n",
              "      <th>4</th>\n",
              "      <td>40553431667380366</td>\n",
              "      <td>boAt Xtend Pro with Bluetooth Calling, Dial Pa...</td>\n",
              "      <td>RITA DAS</td>\n",
              "      <td>20221006</td>\n",
              "      <td>3049.0</td>\n",
              "      <td>40.00</td>\n",
              "    </tr>\n",
              "  </tbody>\n",
              "</table>\n",
              "</div>"
            ],
            "text/plain": [
              "             OrderId                                     PurchasedItems  \\\n",
              "0  40108269157819810                                                NaN   \n",
              "1  40569463417158704                Amazon Prime (Monthly Membership);    \n",
              "2  40893197167314741  PTron Bassbuds Duo Bluetooth Truly Wireless in...   \n",
              "3  40583762028677158  pTron Bassbuds Duo in Ear Earbuds with 32Hrs T...   \n",
              "4  40553431667380366  boAt Xtend Pro with Bluetooth Calling, Dial Pa...   \n",
              "\n",
              "  CustomerName OrderDate  AmountPaid ShippingCharges  \n",
              "0            0  20221126         0.0               0  \n",
              "1            0  20221112       179.0            0.00  \n",
              "2     RITA DAS  20221008         0.0            0.00  \n",
              "3     RITA DAS  20221006       599.0           40.00  \n",
              "4     RITA DAS  20221006      3049.0           40.00  "
            ]
          },
          "execution_count": 182,
          "metadata": {},
          "output_type": "execute_result"
        }
      ],
      "source": [
        "s2[\"AmountPaid\"] = s2[\"AmountPaid\"].astype(float)\n",
        "s2"
      ]
    },
    {
      "cell_type": "code",
      "execution_count": 186,
      "metadata": {},
      "outputs": [
        {
          "data": {
            "image/png": "[encoded data removed]",
            "text/plain": [
              "<Figure size 432x288 with 1 Axes>"
            ]
          },
          "metadata": {
            "needs_background": "light"
          },
          "output_type": "display_data"
        },
        {
          "data": {
            "text/plain": [
              "<Figure size 216x144 with 0 Axes>"
            ]
          },
          "metadata": {},
          "output_type": "display_data"
        }
      ],
      "source": [
        "import numpy as np\n",
        "import matplotlib.pyplot as plt\n",
        "arr=[]\n",
        "arr=np.append(arr,s2['AmountPaid'])\n",
        "plt.boxplot(arr)\n",
        "fig=plt.figure(figsize=(3,2))\n",
        "plt.show()"
      ]
    },
    {
      "cell_type": "code",
      "execution_count": null,
      "metadata": {
        "colab": {
          "base_uri": "https://localhost:8080/"
        },
        "id": "v8JP-2OGylmm",
        "outputId": "3a30ec12-ab6c-4fa8-ddea-72ff199419c5"
      },
      "outputs": [
        {
          "data": {
            "text/plain": [
              "3827.0"
            ]
          },
          "execution_count": 90,
          "metadata": {},
          "output_type": "execute_result"
        }
      ],
      "source": [
        "s2['AmountPaid'].sum()"
      ]
    },
    {
      "cell_type": "code",
      "execution_count": null,
      "metadata": {
        "colab": {
          "base_uri": "https://localhost:8080/"
        },
        "id": "xUAxvpjTyxai",
        "outputId": "c96738fa-5cfe-4190-8c06-4bd878ad42ee"
      },
      "outputs": [
        {
          "data": {
            "text/plain": [
              "765.4"
            ]
          },
          "execution_count": 91,
          "metadata": {},
          "output_type": "execute_result"
        }
      ],
      "source": [
        "s2['AmountPaid'].mean()"
      ]
    },
    {
      "cell_type": "code",
      "execution_count": null,
      "metadata": {
        "colab": {
          "base_uri": "https://localhost:8080/"
        },
        "id": "oKPIvWosyz7K",
        "outputId": "e0aa9508-1524-4d23-8dc0-60a56009e13b"
      },
      "outputs": [
        {
          "data": {
            "text/plain": [
              "179.0"
            ]
          },
          "execution_count": 92,
          "metadata": {},
          "output_type": "execute_result"
        }
      ],
      "source": [
        "s2['AmountPaid'].median()"
      ]
    },
    {
      "cell_type": "code",
      "execution_count": null,
      "metadata": {
        "colab": {
          "base_uri": "https://localhost:8080/"
        },
        "id": "bSm-iXHiy92v",
        "outputId": "d4c73abb-0321-4212-c7b2-4980e6b90788"
      },
      "outputs": [
        {
          "data": {
            "text/plain": [
              "3049.0"
            ]
          },
          "execution_count": 93,
          "metadata": {},
          "output_type": "execute_result"
        }
      ],
      "source": [
        "s2['AmountPaid'].max()"
      ]
    },
    {
      "cell_type": "code",
      "execution_count": null,
      "metadata": {
        "colab": {
          "base_uri": "https://localhost:8080/"
        },
        "id": "sj5uoomozAnQ",
        "outputId": "e6c0a92e-49a7-4935-85ad-6fcd616659df"
      },
      "outputs": [
        {
          "data": {
            "text/plain": [
              "0.0"
            ]
          },
          "execution_count": 94,
          "metadata": {},
          "output_type": "execute_result"
        }
      ],
      "source": [
        "s2['AmountPaid'].min()"
      ]
    },
    {
      "cell_type": "code",
      "execution_count": null,
      "metadata": {},
      "outputs": [
        {
          "name": "stderr",
          "output_type": "stream",
          "text": [
            "<ipython-input-95-045fa536cd0b>:3: SettingWithCopyWarning: \n",
            "A value is trying to be set on a copy of a slice from a DataFrame.\n",
            "Try using .loc[row_indexer,col_indexer] = value instead\n",
            "\n",
            "See the caveats in the documentation: https://pandas.pydata.org/pandas-docs/stable/user_guide/indexing.html#returning-a-view-versus-a-copy\n",
            "  s2['AmountPaid']=label_encoder.fit_transform(s2['AmountPaid'])\n",
            "<ipython-input-95-045fa536cd0b>:5: SettingWithCopyWarning: \n",
            "A value is trying to be set on a copy of a slice from a DataFrame.\n",
            "Try using .loc[row_indexer,col_indexer] = value instead\n",
            "\n",
            "See the caveats in the documentation: https://pandas.pydata.org/pandas-docs/stable/user_guide/indexing.html#returning-a-view-versus-a-copy\n",
            "  s2['PurchasedItems']=label_encoder.fit_transform(s2['PurchasedItems'])\n",
            "<ipython-input-95-045fa536cd0b>:7: SettingWithCopyWarning: \n",
            "A value is trying to be set on a copy of a slice from a DataFrame.\n",
            "Try using .loc[row_indexer,col_indexer] = value instead\n",
            "\n",
            "See the caveats in the documentation: https://pandas.pydata.org/pandas-docs/stable/user_guide/indexing.html#returning-a-view-versus-a-copy\n",
            "  s2['CustomerName']=label_encoder.fit_transform(s2['CustomerName'])\n"
          ]
        },
        {
          "data": {
            "text/html": [
              "<div>\n",
              "<style scoped>\n",
              "    .dataframe tbody tr th:only-of-type {\n",
              "        vertical-align: middle;\n",
              "    }\n",
              "\n",
              "    .dataframe tbody tr th {\n",
              "        vertical-align: top;\n",
              "    }\n",
              "\n",
              "    .dataframe thead th {\n",
              "        text-align: right;\n",
              "    }\n",
              "</style>\n",
              "<table border=\"1\" class=\"dataframe\">\n",
              "  <thead>\n",
              "    <tr style=\"text-align: right;\">\n",
              "      <th></th>\n",
              "      <th>OrderId</th>\n",
              "      <th>PurchasedItems</th>\n",
              "      <th>CustomerName</th>\n",
              "      <th>OrderDate</th>\n",
              "      <th>AmountPaid</th>\n",
              "      <th>ShippingCharges</th>\n",
              "    </tr>\n",
              "  </thead>\n",
              "  <tbody>\n",
              "    <tr>\n",
              "      <th>0</th>\n",
              "      <td>40108269157819810</td>\n",
              "      <td>4</td>\n",
              "      <td>0</td>\n",
              "      <td>20221126</td>\n",
              "      <td>0</td>\n",
              "      <td>0</td>\n",
              "    </tr>\n",
              "    <tr>\n",
              "      <th>1</th>\n",
              "      <td>40569463417158704</td>\n",
              "      <td>0</td>\n",
              "      <td>0</td>\n",
              "      <td>20221112</td>\n",
              "      <td>1</td>\n",
              "      <td>0.00</td>\n",
              "    </tr>\n",
              "    <tr>\n",
              "      <th>2</th>\n",
              "      <td>40893197167314741</td>\n",
              "      <td>1</td>\n",
              "      <td>1</td>\n",
              "      <td>20221008</td>\n",
              "      <td>0</td>\n",
              "      <td>0.00</td>\n",
              "    </tr>\n",
              "    <tr>\n",
              "      <th>3</th>\n",
              "      <td>40583762028677158</td>\n",
              "      <td>3</td>\n",
              "      <td>1</td>\n",
              "      <td>20221006</td>\n",
              "      <td>2</td>\n",
              "      <td>40.00</td>\n",
              "    </tr>\n",
              "    <tr>\n",
              "      <th>4</th>\n",
              "      <td>40553431667380366</td>\n",
              "      <td>2</td>\n",
              "      <td>1</td>\n",
              "      <td>20221006</td>\n",
              "      <td>3</td>\n",
              "      <td>40.00</td>\n",
              "    </tr>\n",
              "  </tbody>\n",
              "</table>\n",
              "</div>"
            ],
            "text/plain": [
              "             OrderId  PurchasedItems  CustomerName OrderDate  AmountPaid  \\\n",
              "0  40108269157819810               4             0  20221126           0   \n",
              "1  40569463417158704               0             0  20221112           1   \n",
              "2  40893197167314741               1             1  20221008           0   \n",
              "3  40583762028677158               3             1  20221006           2   \n",
              "4  40553431667380366               2             1  20221006           3   \n",
              "\n",
              "  ShippingCharges  \n",
              "0               0  \n",
              "1            0.00  \n",
              "2            0.00  \n",
              "3           40.00  \n",
              "4           40.00  "
            ]
          },
          "execution_count": 95,
          "metadata": {},
          "output_type": "execute_result"
        }
      ],
      "source": [
        "from sklearn import preprocessing\n",
        "label_encoder = preprocessing.LabelEncoder()\n",
        "s2['AmountPaid']=label_encoder.fit_transform(s2['AmountPaid'])\n",
        "s2['AmountPaid'].unique()\n",
        "s2['PurchasedItems']=label_encoder.fit_transform(s2['PurchasedItems'])\n",
        "s2['PurchasedItems'].unique()\n",
        "s2['CustomerName']=label_encoder.fit_transform(s2['CustomerName'])\n",
        "s2['CustomerName'].unique()\n",
        "s2"
      ]
    },
    {
      "cell_type": "code",
      "execution_count": null,
      "metadata": {},
      "outputs": [],
      "source": [
        "y=s2['AmountPaid']"
      ]
    },
    {
      "cell_type": "code",
      "execution_count": null,
      "metadata": {},
      "outputs": [
        {
          "data": {
            "text/plain": [
              "array([[-1.72902856,  1.41421356, -1.22474487,  1.34747235, -1.02899151,\n",
              "        -0.81649658],\n",
              "       [ 0.11107268, -1.41421356, -1.22474487,  1.09391573, -0.17149859,\n",
              "        -0.81649658],\n",
              "       [ 1.40272551, -0.70710678,  0.81649658, -0.78964778, -1.02899151,\n",
              "        -0.81649658],\n",
              "       [ 0.16812216,  0.70710678,  0.81649658, -0.82587015,  0.68599434,\n",
              "         1.22474487],\n",
              "       [ 0.04710821,  0.        ,  0.81649658, -0.82587015,  1.54348727,\n",
              "         1.22474487]])"
            ]
          },
          "execution_count": 97,
          "metadata": {},
          "output_type": "execute_result"
        }
      ],
      "source": [
        "# Feature Scaling\n",
        "from sklearn.preprocessing import StandardScaler\n",
        "sc  = StandardScaler()\n",
        "sc.fit(s2)\n",
        "s2 = sc.transform(s2)\n",
        "\n",
        "from sklearn.model_selection import train_test_split\n",
        "x_train, x_test, y_train, y_test = train_test_split(s2,y,test_size=0.2)\n",
        "s2"
      ]
    },
    {
      "cell_type": "code",
      "execution_count": null,
      "metadata": {},
      "outputs": [
        {
          "ename": "IndexError",
          "evalue": "only integers, slices (`:`), ellipsis (`...`), numpy.newaxis (`None`) and integer or boolean arrays are valid indices",
          "output_type": "error",
          "traceback": [
            "\u001b[1;31m---------------------------------------------------------------------------\u001b[0m",
            "\u001b[1;31mIndexError\u001b[0m                                Traceback (most recent call last)",
            "\u001b[1;32m<ipython-input-98-978c858c8ce1>\u001b[0m in \u001b[0;36m<module>\u001b[1;34m\u001b[0m\n\u001b[0;32m      2\u001b[0m \u001b[1;32mimport\u001b[0m \u001b[0mmatplotlib\u001b[0m\u001b[1;33m.\u001b[0m\u001b[0mpyplot\u001b[0m \u001b[1;32mas\u001b[0m \u001b[0mplt\u001b[0m\u001b[1;33m\u001b[0m\u001b[1;33m\u001b[0m\u001b[0m\n\u001b[0;32m      3\u001b[0m \u001b[0marr\u001b[0m\u001b[1;33m=\u001b[0m\u001b[1;33m[\u001b[0m\u001b[1;33m]\u001b[0m\u001b[1;33m\u001b[0m\u001b[1;33m\u001b[0m\u001b[0m\n\u001b[1;32m----> 4\u001b[1;33m \u001b[0marr\u001b[0m\u001b[1;33m=\u001b[0m\u001b[0mnp\u001b[0m\u001b[1;33m.\u001b[0m\u001b[0mappend\u001b[0m\u001b[1;33m(\u001b[0m\u001b[0marr\u001b[0m\u001b[1;33m,\u001b[0m\u001b[0ms2\u001b[0m\u001b[1;33m[\u001b[0m\u001b[1;34m'AmountPaid'\u001b[0m\u001b[1;33m]\u001b[0m\u001b[1;33m)\u001b[0m\u001b[1;33m\u001b[0m\u001b[1;33m\u001b[0m\u001b[0m\n\u001b[0m\u001b[0;32m      5\u001b[0m \u001b[0mplt\u001b[0m\u001b[1;33m.\u001b[0m\u001b[0mboxplot\u001b[0m\u001b[1;33m(\u001b[0m\u001b[0marr\u001b[0m\u001b[1;33m)\u001b[0m\u001b[1;33m\u001b[0m\u001b[1;33m\u001b[0m\u001b[0m\n\u001b[0;32m      6\u001b[0m \u001b[0mfig\u001b[0m\u001b[1;33m=\u001b[0m\u001b[0mplt\u001b[0m\u001b[1;33m.\u001b[0m\u001b[0mfigure\u001b[0m\u001b[1;33m(\u001b[0m\u001b[0mfigsize\u001b[0m\u001b[1;33m=\u001b[0m\u001b[1;33m(\u001b[0m\u001b[1;36m5\u001b[0m\u001b[1;33m,\u001b[0m\u001b[1;36m2\u001b[0m\u001b[1;33m)\u001b[0m\u001b[1;33m)\u001b[0m\u001b[1;33m\u001b[0m\u001b[1;33m\u001b[0m\u001b[0m\n",
            "\u001b[1;31mIndexError\u001b[0m: only integers, slices (`:`), ellipsis (`...`), numpy.newaxis (`None`) and integer or boolean arrays are valid indices"
          ]
        }
      ],
      "source": [
        "import numpy as np\n",
        "import matplotlib.pyplot as plt\n",
        "arr=[]\n",
        "arr=np.append(arr,s2['AmountPaid'])\n",
        "plt.boxplot(arr)\n",
        "fig=plt.figure(figsize=(5,2))\n",
        "plt.show()"
      ]
    },
    {
      "cell_type": "code",
      "execution_count": null,
      "metadata": {},
      "outputs": [],
      "source": []
    },
    {
      "cell_type": "code",
      "execution_count": null,
      "metadata": {},
      "outputs": [],
      "source": []
    }
  ],
  "metadata": {
    "colab": {
      "provenance": []
    },
    "kernelspec": {
      "display_name": "base",
      "language": "python",
      "name": "python3"
    },
    "language_info": {
      "codemirror_mode": {
        "name": "ipython",
        "version": 3
      },
      "file_extension": ".py",
      "mimetype": "text/x-python",
      "name": "python",
      "nbconvert_exporter": "python",
      "pygments_lexer": "ipython3",
      "version": "3.8.8"
    },
    "vscode": {
      "interpreter": {
        "hash": "dc07d24e2f18896857f0b2a651fe84ba40ce7b297e58d8804a308c8039f752a6"
      }
    }
  },
  "nbformat": 4,
  "nbformat_minor": 0
}
